{
  "nbformat": 4,
  "nbformat_minor": 0,
  "metadata": {
    "colab": {
      "provenance": [],
      "include_colab_link": true
    },
    "kernelspec": {
      "name": "python3",
      "display_name": "Python 3"
    },
    "language_info": {
      "name": "python"
    }
  },
  "cells": [
    {
      "cell_type": "markdown",
      "metadata": {
        "id": "view-in-github",
        "colab_type": "text"
      },
      "source": [
        "<a href=\"https://colab.research.google.com/github/AFELUMO/AFELUMO/blob/main/grade_analysis.ipynb\" target=\"_parent\"><img src=\"https://colab.research.google.com/assets/colab-badge.svg\" alt=\"Open In Colab\"/></a>"
      ]
    },
    {
      "cell_type": "markdown",
      "source": [
        "Name: Afelumo Temidayo Tom\n",
        "\n",
        "Title: Python Numpy Checkpoint\n",
        "\n",
        "Date: 10/19/2023"
      ],
      "metadata": {
        "id": "nw1qHoY_b2CH"
      }
    },
    {
      "cell_type": "code",
      "execution_count": 1,
      "metadata": {
        "colab": {
          "base_uri": "https://localhost:8080/"
        },
        "id": "xKAVbWuBGxlj",
        "outputId": "9788b937-fc3d-4bc1-87ee-f7b071b27208"
      },
      "outputs": [
        {
          "output_type": "stream",
          "name": "stdout",
          "text": [
            "[85 90 88 92 95 80 75 98 89 83]\n",
            "mean of grades is: 87.5\n",
            "median of grades is: 88.5\n",
            "standard deviation of grades is: 6.591661399070799\n",
            "minimum of grades is: 75\n",
            "maximum of grades is: 98\n",
            "grades in ascending order: [75 80 83 85 88 89 90 92 95 98]\n",
            "index of highest grades: 7\n",
            "count of grades above 90: 3\n",
            "percentage of grades above 90: 30.0\n",
            "percentage of grades below 75: 0.0\n",
            "high performers grades: [92 95 98]\n",
            "passing grades: [85 90 88 92 95 80 98 89 83]\n"
          ]
        }
      ],
      "source": [
        "#import numpy\n",
        "\n",
        "import numpy as np\n",
        "\n",
        "grades = np.array([85, 90, 88, 92, 95, 80, 75, 98, 89, 83])\n",
        "print(grades)\n",
        "\n",
        "\n",
        "#calculate mean of grades\n",
        "print(f'mean of grades is: {np.mean(grades)}')\n",
        "\n",
        "\n",
        "#calculate median of grades\n",
        "print(f'median of grades is: {np.median(grades)}')\n",
        "\n",
        "\n",
        "#calculate standard deviation of grades\n",
        "print(f'standard deviation of grades is: {np.std(grades)}')\n",
        "\n",
        "\n",
        "# find minimum of grades\n",
        "print(f'minimum of grades is: {np.min(grades)}')\n",
        "\n",
        "\n",
        "#find maximum of grades\n",
        "print(f'maximum of grades is: {np.max(grades)}')\n",
        "\n",
        "\n",
        "#sort grades in ascending order\n",
        "print(f'grades in ascending order: {np.sort(grades)}')\n",
        "\n",
        "\n",
        "#find index of highest grade\n",
        "print(f'index of highest grades: {np.argmax(grades)}')\n",
        "\n",
        "\n",
        "#count grades above 90\n",
        "y = grades[grades > 90]\n",
        "print(f'count of grades above 90: {len(y)}')\n",
        "\n",
        "\n",
        "#calculate percentage of grades above 90\n",
        "print(f'percentage of grades above 90: {np.mean(grades>90) * 100}')\n",
        "\n",
        "\n",
        "#calculate percentage of grades below 75\n",
        "print(f'percentage of grades below 75: {np.mean(grades < 75) * 100}')\n",
        "\n",
        "\n",
        "#array of high performers\n",
        "high_performers = grades[grades > 90]\n",
        "print(f'high performers grades: {high_performers}')\n",
        "\n",
        "\n",
        "#passing grades\n",
        "passing_grades = grades[grades > 75]\n",
        "print(f'passing grades: {passing_grades}')"
      ]
    }
  ]
}